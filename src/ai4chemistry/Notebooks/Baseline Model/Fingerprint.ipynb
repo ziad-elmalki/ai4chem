{
 "cells": [
  {
   "cell_type": "code",
   "execution_count": 1,
   "metadata": {},
   "outputs": [
    {
     "name": "stdout",
     "output_type": "stream",
     "text": [
      "[[0 1 0 ... 0 0 0]\n",
      " [0 1 0 ... 0 0 0]\n",
      " [0 1 0 ... 0 0 0]\n",
      " ...\n",
      " [0 0 1 ... 0 0 0]\n",
      " [0 0 1 ... 0 0 0]\n",
      " [0 0 1 ... 0 0 0]]\n"
     ]
    }
   ],
   "source": [
    "from rdkit import Chem\n",
    "from rdkit.Chem import AllChem\n",
    "import pandas as pd\n",
    "import numpy as np\n",
    "\n",
    "# Load the data\n",
    "df = pd.read_csv('../../../../docs/data/cycpeptdb_clean_onlyPC.csv')\n",
    "\n",
    "# Function to compute ECFP fingerprints\n",
    "def compute_Morgan_fingerprint(smiles, radius=2, nBits=2048):\n",
    "    mol = Chem.MolFromSmiles(smiles)\n",
    "    if mol:\n",
    "        return AllChem.GetMorganFingerprintAsBitVect(mol, radius, nBits)\n",
    "    else:\n",
    "        return np.nan\n",
    "    \n",
    "def compute_DRFP_fingerprint(smiles, radius=2, nBits=2048):\n",
    "    mol = Chem.MolFromSmiles(smiles)\n",
    "    if mol:\n",
    "        return AllChem.GetMorganFingerprintAsBitVect(mol, radius, nBits)\n",
    "    else:\n",
    "        return np.nan\n",
    "\n",
    "\n",
    "# Apply the function to the DataFrame\n",
    "df['fingerprint'] = df['SMILES'].apply(compute_Morgan_fingerprint)\n",
    "\n",
    "# Convert fingerprints to a list of lists\n",
    "fingerprint_list = [list(f) for f in df['fingerprint']]\n",
    "\n",
    "# Optionally convert to a NumPy array for regression models\n",
    "fingerprint_array = np.array(fingerprint_list)\n",
    "\n",
    "print(fingerprint_array)"
   ]
  },
  {
   "cell_type": "code",
   "execution_count": null,
   "metadata": {},
   "outputs": [],
   "source": []
  }
 ],
 "metadata": {
  "kernelspec": {
   "display_name": "pepnet",
   "language": "python",
   "name": "python3"
  },
  "language_info": {
   "codemirror_mode": {
    "name": "ipython",
    "version": 3
   },
   "file_extension": ".py",
   "mimetype": "text/x-python",
   "name": "python",
   "nbconvert_exporter": "python",
   "pygments_lexer": "ipython3",
   "version": "3.12.2"
  }
 },
 "nbformat": 4,
 "nbformat_minor": 2
}
