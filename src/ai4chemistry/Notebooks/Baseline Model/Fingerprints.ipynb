{
 "cells": [
  {
   "cell_type": "code",
   "execution_count": 1,
   "metadata": {},
   "outputs": [
    {
     "name": "stdout",
     "output_type": "stream",
     "text": [
      "[[0 1 0 ... 0 0 0]\n",
      " [0 1 0 ... 0 0 0]\n",
      " [0 1 0 ... 0 0 0]\n",
      " ...\n",
      " [0 0 1 ... 0 0 0]\n",
      " [0 0 1 ... 0 0 0]\n",
      " [0 0 1 ... 0 0 0]]\n"
     ]
    }
   ],
   "source": [
    "from rdkit import Chem\n",
    "from rdkit.Chem import AllChem\n",
    "import pandas as pd\n",
    "import numpy as np\n",
    "\n",
    "# Load the data\n",
    "df = pd.read_csv('../../../../docs/data/cycpeptdb_clean_onlyPC.csv')\n",
    "\n",
    "# Function to compute ECFP fingerprints\n",
    "def compute_Morgan_fingerprint(smiles, radius=2, nBits=2048):\n",
    "    mol = Chem.MolFromSmiles(smiles)\n",
    "    if mol:\n",
    "        return AllChem.GetMorganFingerprintAsBitVect(mol, radius, nBits)\n",
    "    else:\n",
    "        return np.nan\n",
    "\n",
    "\n",
    "# Apply the function to the DataFrame\n",
    "df['fingerprint'] = df['SMILES'].apply(compute_Morgan_fingerprint)\n",
    "\n",
    "# Convert fingerprints to a list of lists\n",
    "fingerprint_list = [list(f) for f in df['fingerprint']]\n",
    "\n",
    "# Optionally convert to a NumPy array for regression models\n",
    "fingerprint_array = np.array(fingerprint_list)\n",
    "\n",
    "print(fingerprint_array)"
   ]
  },
  {
   "cell_type": "code",
   "execution_count": 1,
   "metadata": {},
   "outputs": [
    {
     "ename": "NoReactionError",
     "evalue": "The following is not a valid reaction SMILES: 'C/C=C/C[C@@H](C)[C@@H](O)[C@H]1C(=O)N[C@@H](CC)C(=O)N(C)CC(=O)N(C)[C@@H](CC(C)C)C(=O)N[C@@H](C(C)C)C(=O)N(C)[C@@H](CC(C)C)C(=O)N[C@@H](C)C(=O)N[C@H](C)C(=O)N(C)[C@@H](CC(C)C)C(=O)N(C)[C@@H](CC(C)C)C(=O)N(C)[C@@H](C(C)C)C(=O)N1C'",
     "output_type": "error",
     "traceback": [
      "\u001b[0;31m---------------------------------------------------------------------------\u001b[0m",
      "\u001b[0;31mNoReactionError\u001b[0m                           Traceback (most recent call last)",
      "Cell \u001b[0;32mIn[1], line 7\u001b[0m\n\u001b[1;32m      4\u001b[0m \u001b[38;5;66;03m# Load the data\u001b[39;00m\n\u001b[1;32m      5\u001b[0m df \u001b[38;5;241m=\u001b[39m pd\u001b[38;5;241m.\u001b[39mread_csv(\u001b[38;5;124m'\u001b[39m\u001b[38;5;124m../../../../docs/data/cycpeptdb_clean_onlyPC.csv\u001b[39m\u001b[38;5;124m'\u001b[39m)\n\u001b[0;32m----> 7\u001b[0m df[\u001b[38;5;124m'\u001b[39m\u001b[38;5;124mfingerprint\u001b[39m\u001b[38;5;124m'\u001b[39m] \u001b[38;5;241m=\u001b[39m \u001b[43mDrfpEncoder\u001b[49m\u001b[38;5;241;43m.\u001b[39;49m\u001b[43mencode\u001b[49m\u001b[43m(\u001b[49m\u001b[43mdf\u001b[49m\u001b[43m[\u001b[49m\u001b[38;5;124;43m'\u001b[39;49m\u001b[38;5;124;43mSMILES\u001b[39;49m\u001b[38;5;124;43m'\u001b[39;49m\u001b[43m]\u001b[49m\u001b[43m)\u001b[49m\n\u001b[1;32m      9\u001b[0m \u001b[38;5;66;03m# Convert fingerprints to a list of lists\u001b[39;00m\n\u001b[1;32m     10\u001b[0m fingerprint_list \u001b[38;5;241m=\u001b[39m [\u001b[38;5;28mlist\u001b[39m(f) \u001b[38;5;28;01mfor\u001b[39;00m f \u001b[38;5;129;01min\u001b[39;00m df[\u001b[38;5;124m'\u001b[39m\u001b[38;5;124mfingerprint\u001b[39m\u001b[38;5;124m'\u001b[39m]]\n",
      "File \u001b[0;32m~/miniconda3/envs/pepnet/lib/python3.12/site-packages/drfp/fingerprint.py:226\u001b[0m, in \u001b[0;36mDrfpEncoder.encode\u001b[0;34m(X, n_folded_length, min_radius, radius, rings, mapping)\u001b[0m\n\u001b[1;32m    224\u001b[0m result_map \u001b[38;5;241m=\u001b[39m defaultdict(\u001b[38;5;28mset\u001b[39m)\n\u001b[1;32m    225\u001b[0m \u001b[38;5;28;01mfor\u001b[39;00m _, x \u001b[38;5;129;01min\u001b[39;00m \u001b[38;5;28menumerate\u001b[39m(X):\n\u001b[0;32m--> 226\u001b[0m     hashed_diff, smiles_diff \u001b[38;5;241m=\u001b[39m \u001b[43mDrfpEncoder\u001b[49m\u001b[38;5;241;43m.\u001b[39;49m\u001b[43minternal_encode\u001b[49m\u001b[43m(\u001b[49m\n\u001b[1;32m    227\u001b[0m \u001b[43m        \u001b[49m\u001b[43mx\u001b[49m\u001b[43m,\u001b[49m\u001b[43m \u001b[49m\u001b[43mmin_radius\u001b[49m\u001b[38;5;241;43m=\u001b[39;49m\u001b[43mmin_radius\u001b[49m\u001b[43m,\u001b[49m\u001b[43m \u001b[49m\u001b[43mradius\u001b[49m\u001b[38;5;241;43m=\u001b[39;49m\u001b[43mradius\u001b[49m\u001b[43m,\u001b[49m\u001b[43m \u001b[49m\u001b[43mrings\u001b[49m\u001b[38;5;241;43m=\u001b[39;49m\u001b[43mrings\u001b[49m\n\u001b[1;32m    228\u001b[0m \u001b[43m    \u001b[49m\u001b[43m)\u001b[49m\n\u001b[1;32m    230\u001b[0m     difference_folded, on_bits \u001b[38;5;241m=\u001b[39m DrfpEncoder\u001b[38;5;241m.\u001b[39mfold(\n\u001b[1;32m    231\u001b[0m         hashed_diff,\n\u001b[1;32m    232\u001b[0m         length\u001b[38;5;241m=\u001b[39mn_folded_length,\n\u001b[1;32m    233\u001b[0m     )\n\u001b[1;32m    235\u001b[0m     \u001b[38;5;28;01mif\u001b[39;00m mapping:\n",
      "File \u001b[0;32m~/miniconda3/envs/pepnet/lib/python3.12/site-packages/drfp/fingerprint.py:111\u001b[0m, in \u001b[0;36mDrfpEncoder.internal_encode\u001b[0;34m(in_smiles, radius, min_radius, rings)\u001b[0m\n\u001b[1;32m    109\u001b[0m sides \u001b[38;5;241m=\u001b[39m in_smiles\u001b[38;5;241m.\u001b[39msplit(\u001b[38;5;124m\"\u001b[39m\u001b[38;5;124m>\u001b[39m\u001b[38;5;124m\"\u001b[39m)\n\u001b[1;32m    110\u001b[0m \u001b[38;5;28;01mif\u001b[39;00m \u001b[38;5;28mlen\u001b[39m(sides) \u001b[38;5;241m<\u001b[39m \u001b[38;5;241m3\u001b[39m:\n\u001b[0;32m--> 111\u001b[0m     \u001b[38;5;28;01mraise\u001b[39;00m NoReactionError(\n\u001b[1;32m    112\u001b[0m         \u001b[38;5;124mf\u001b[39m\u001b[38;5;124m\"\u001b[39m\u001b[38;5;124mThe following is not a valid reaction SMILES: \u001b[39m\u001b[38;5;124m'\u001b[39m\u001b[38;5;132;01m{\u001b[39;00min_smiles\u001b[38;5;132;01m}\u001b[39;00m\u001b[38;5;124m'\u001b[39m\u001b[38;5;124m\"\u001b[39m\n\u001b[1;32m    113\u001b[0m     )\n\u001b[1;32m    115\u001b[0m \u001b[38;5;28;01mif\u001b[39;00m \u001b[38;5;28mlen\u001b[39m(sides[\u001b[38;5;241m1\u001b[39m]) \u001b[38;5;241m>\u001b[39m \u001b[38;5;241m0\u001b[39m:\n\u001b[1;32m    116\u001b[0m     sides[\u001b[38;5;241m0\u001b[39m] \u001b[38;5;241m+\u001b[39m\u001b[38;5;241m=\u001b[39m \u001b[38;5;124m\"\u001b[39m\u001b[38;5;124m.\u001b[39m\u001b[38;5;124m\"\u001b[39m \u001b[38;5;241m+\u001b[39m sides[\u001b[38;5;241m1\u001b[39m]\n",
      "\u001b[0;31mNoReactionError\u001b[0m: The following is not a valid reaction SMILES: 'C/C=C/C[C@@H](C)[C@@H](O)[C@H]1C(=O)N[C@@H](CC)C(=O)N(C)CC(=O)N(C)[C@@H](CC(C)C)C(=O)N[C@@H](C(C)C)C(=O)N(C)[C@@H](CC(C)C)C(=O)N[C@@H](C)C(=O)N[C@H](C)C(=O)N(C)[C@@H](CC(C)C)C(=O)N(C)[C@@H](CC(C)C)C(=O)N(C)[C@@H](C(C)C)C(=O)N1C'"
     ]
    }
   ],
   "source": [
    "from drfp import DrfpEncoder\n",
    "import pandas as pd\n",
    "\n",
    "# Load the data\n",
    "df = pd.read_csv('../../../../docs/data/cycpeptdb_clean_onlyPC.csv')\n",
    "\n",
    "df['fingerprint'] = DrfpEncoder.encode(df['SMILES'])\n",
    "\n",
    "# Convert fingerprints to a list of lists\n",
    "fingerprint_list = [list(f) for f in df['fingerprint']]\n",
    "\n",
    "# Optionally convert to a NumPy array for regression models\n",
    "fingerprint_array = np.array(fingerprint_list)\n",
    "\n",
    "print(fingerprint_array)"
   ]
  },
  {
   "cell_type": "code",
   "execution_count": 10,
   "metadata": {},
   "outputs": [
    {
     "name": "stdout",
     "output_type": "stream",
     "text": [
      "0.91796875\n"
     ]
    }
   ],
   "source": [
    "from rdkit import Chem\n",
    "import tmap as tm\n",
    "from map4 import MAP4Calculator\n",
    "\n",
    "dim = 1024\n",
    "\n",
    "MAP4 = MAP4Calculator(dimensions=dim)\n",
    "ENC = tm.Minhash(dim)\n",
    "\n",
    "df = pd.read_csv('../../../../docs/data/cycpeptdb_clean.csv')\n",
    "# df['fingerprint'] = Chem.MolFromSmiles(df['SMILES']).apply(MAP4.calculate_many)\n",
    "df['MolFromSmiles'] = df['SMILES'].apply(Chem.MolFromSmiles)\n",
    "df['fingerprint'] = MAP4.calculate_many(df['MolFromSmiles'])\n",
    "\n",
    "\n",
    "fps = df['fingerprint'].values\n",
    "\n",
    "print(ENC.get_distance(fps[0], fps[1]))"
   ]
  },
  {
   "cell_type": "code",
   "execution_count": 11,
   "metadata": {},
   "outputs": [
    {
     "name": "stdout",
     "output_type": "stream",
     "text": [
      "0       [4783318, 851071, 99402, 3285824, 2115449, 113...\n",
      "1       [9109819, 8511241, 2475943, 5328534, 2924166, ...\n",
      "2       [9109819, 8511241, 2475943, 5328534, 2924166, ...\n",
      "3       [9109819, 8511241, 2475943, 5328534, 2924166, ...\n",
      "4       [9109819, 8511241, 2475943, 5328534, 2924166, ...\n",
      "                              ...                        \n",
      "7329    [1523474, 3827191, 1052992, 44620, 1038221, 23...\n",
      "7330    [170694, 3827191, 1052992, 44620, 1038221, 231...\n",
      "7331    [170694, 1246412, 1052992, 44620, 1038221, 231...\n",
      "7332    [170694, 3827191, 1052992, 44620, 1038221, 231...\n",
      "7333    [170694, 3827191, 1052992, 44620, 1038221, 243...\n",
      "Name: fingerprint, Length: 7334, dtype: object\n"
     ]
    }
   ],
   "source": [
    "print(df['fingerprint'])"
   ]
  },
  {
   "cell_type": "code",
   "execution_count": null,
   "metadata": {},
   "outputs": [],
   "source": []
  }
 ],
 "metadata": {
  "kernelspec": {
   "display_name": "pepnet",
   "language": "python",
   "name": "python3"
  },
  "language_info": {
   "codemirror_mode": {
    "name": "ipython",
    "version": 3
   },
   "file_extension": ".py",
   "mimetype": "text/x-python",
   "name": "python",
   "nbconvert_exporter": "python",
   "pygments_lexer": "ipython3",
   "version": "3.6.13"
  }
 },
 "nbformat": 4,
 "nbformat_minor": 2
}
