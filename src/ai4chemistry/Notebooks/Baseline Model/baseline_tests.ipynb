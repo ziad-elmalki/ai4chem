{
 "cells": [
  {
   "cell_type": "code",
   "execution_count": 14,
   "metadata": {},
   "outputs": [],
   "source": [
    "import pandas as pd\n",
    "import numpy as np\n",
    "import matplotlib.pyplot as plt\n",
    "from sklearn.model_selection import train_test_split\n",
    "from sklearn.linear_model import LinearRegression, Ridge, Lasso\n",
    "from sklearn.ensemble import RandomForestRegressor, GradientBoostingRegressor\n",
    "from sklearn.metrics import mean_squared_error, mean_absolute_error, r2_score"
   ]
  },
  {
   "cell_type": "code",
   "execution_count": 22,
   "metadata": {},
   "outputs": [
    {
     "name": "stdout",
     "output_type": "stream",
     "text": [
      "Linear Regression:\n",
      "  MSE: 0.4386944823603446\n",
      "  MAE: 0.5015397236820028\n",
      "  R2: 0.23783757007260453\n",
      "\n",
      "Ridge Regression:\n",
      "  MSE: 0.4391635922024334\n",
      "  MAE: 0.5029112788421397\n",
      "  R2: 0.23702256575519076\n",
      "\n",
      "Lasso Regression:\n",
      "  MSE: 0.5578388522980439\n",
      "  MAE: 0.5747915821761139\n",
      "  R2: 0.03084303023862489\n",
      "\n",
      "Random Forest Regressor:\n",
      "  MSE: 0.24331053675875677\n",
      "  MAE: 0.3576866603522185\n",
      "  R2: 0.5772863407689948\n",
      "\n",
      "Gradient Boosting Regressor:\n",
      "  MSE: 0.3030205942562033\n",
      "  MAE: 0.4155815820428958\n",
      "  R2: 0.4735495390921107\n",
      "\n",
      "Test set evaluation (Gradient Boosting Regressor):\n",
      "  MSE: 0.24088912669981027\n",
      "  MAE: 0.3511303436513706\n",
      "  R2: 0.5889692577436387\n"
     ]
    }
   ],
   "source": [
    "# Import data\n",
    "df = pd.read_csv('/Users/lennardreihs/EPFL/Master/MA2/AI4chem/ai4chem/docs/data/cycpeptdb_clean.csv', header = 0) \n",
    "filtered_df = df[df['Permeability'] != -10]\n",
    "\n",
    "# Select the desired columns\n",
    "columns = ['TPSA', #topological polar surface area\n",
    "           'MolWt', #molecular weight\n",
    "           'NumHAcceptors', #number of hydrogen bond acceptors\n",
    "           'NumHDonors', #number of hydrogen bond donors\n",
    "           'NumHAcceptors'] + [col for col in filtered_df.columns if col.startswith('fr_')] \n",
    "\n",
    "# Create the feature matrix and target vector\n",
    "X = filtered_df[columns].values\n",
    "X = np.hstack((X, np.ones((X.shape[0], 1))))  # Add a column of ones for the bias term\n",
    "y= filtered_df['Permeability'].values\n",
    "\n",
    "\n",
    "\n",
    "# Split the data into train, validation, and test sets\n",
    "X_train, X_temp, y_train, y_temp = train_test_split(X, y, test_size=0.4, random_state=42)\n",
    "X_val, X_test, y_val, y_test = train_test_split(X_temp, y_temp, test_size=0.5, random_state=42)\n",
    "\n",
    "# Define models\n",
    "models = {\n",
    "    'Linear Regression': LinearRegression(),\n",
    "    'Ridge Regression': Ridge(),\n",
    "    'Lasso Regression': Lasso(),\n",
    "    'Random Forest Regressor': RandomForestRegressor(random_state=42),\n",
    "    'Gradient Boosting Regressor': GradientBoostingRegressor(random_state=42)\n",
    "}\n",
    "\n",
    "# Initialize a dictionary to store results\n",
    "results = {}\n",
    "\n",
    "# Train and evaluate each model\n",
    "for name, model in models.items():\n",
    "    # Train the model\n",
    "    model.fit(X_train, y_train)\n",
    "    \n",
    "    # Predict on validation set\n",
    "    y_val_pred = model.predict(X_val)\n",
    "    \n",
    "    # Calculate metrics\n",
    "    mse = mean_squared_error(y_val, y_val_pred)\n",
    "    mae = mean_absolute_error(y_val, y_val_pred)\n",
    "    r2 = r2_score(y_val, y_val_pred)\n",
    "    \n",
    "    # Store the results\n",
    "    results[name] = {\"MSE\": mse, \"MAE\": mae, \"R2\": r2}\n",
    "\n",
    "# Print the results\n",
    "for name, metrics in results.items():\n",
    "    print(f\"{name}:\")\n",
    "    print(f\"  MSE: {metrics['MSE']}\")\n",
    "    print(f\"  MAE: {metrics['MAE']}\")\n",
    "    print(f\"  R2: {metrics['R2']}\")\n",
    "    print()\n",
    "    \n",
    "# Optionally, you can also evaluate the best model on the test set\n",
    "# Here, we assume Gradient Boosting Regressor is the best model based on validation performance\n",
    "best_model = models[\"Random Forest Regressor\"]\n",
    "y_test_pred = best_model.predict(X_test)\n",
    "test_mse = mean_squared_error(y_test, y_test_pred)\n",
    "test_mae = mean_absolute_error(y_test, y_test_pred)\n",
    "test_r2 = r2_score(y_test, y_test_pred)\n",
    "\n",
    "print(\"Test set evaluation (Gradient Boosting Regressor):\")\n",
    "print(f\"  MSE: {test_mse}\")\n",
    "print(f\"  MAE: {test_mae}\")\n",
    "print(f\"  R2: {test_r2}\")\n"
   ]
  },
  {
   "cell_type": "code",
   "execution_count": 23,
   "metadata": {},
   "outputs": [
    {
     "data": {
      "text/plain": [
       "242"
      ]
     },
     "execution_count": 23,
     "metadata": {},
     "output_type": "execute_result"
    }
   ],
   "source": [
    "len(df)-len(filtered_df)"
   ]
  },
  {
   "cell_type": "code",
   "execution_count": null,
   "metadata": {},
   "outputs": [],
   "source": []
  }
 ],
 "metadata": {
  "kernelspec": {
   "display_name": "base",
   "language": "python",
   "name": "python3"
  },
  "language_info": {
   "codemirror_mode": {
    "name": "ipython",
    "version": 3
   },
   "file_extension": ".py",
   "mimetype": "text/x-python",
   "name": "python",
   "nbconvert_exporter": "python",
   "pygments_lexer": "ipython3",
   "version": "3.11.5"
  }
 },
 "nbformat": 4,
 "nbformat_minor": 2
}
