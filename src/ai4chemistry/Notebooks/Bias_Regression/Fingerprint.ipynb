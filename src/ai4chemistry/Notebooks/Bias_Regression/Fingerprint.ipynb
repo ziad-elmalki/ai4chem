{
 "cells": [
  {
   "cell_type": "code",
   "execution_count": null,
   "metadata": {},
   "outputs": [],
   "source": [
    "from rdkit import Chem\n",
    "from rdkit.Chem import AllChem\n",
    "import pandas as pd\n",
    "import numpy as np\n",
    "\n",
    "# Load the data\n",
    "df = pd.read_csv('../../../../docs/data/cycpeptdb_clean_onlyPC.csv')\n",
    "\n",
    "# Function to compute ECFP fingerprints\n",
    "def compute_Morgan_fingerprint(smiles, radius=2, nBits=2048):\n",
    "    mol = Chem.MolFromSmiles(smiles)\n",
    "    if mol:\n",
    "        return AllChem.GetMorganFingerprintAsBitVect(mol, radius, nBits)\n",
    "    else:\n",
    "        return np.nan\n",
    "    \n",
    "def compute_DRFP_fingerprint(smiles, radius=2, nBits=2048):\n",
    "    mol = Chem.MolFromSmiles(smiles)\n",
    "    if mol:\n",
    "        return AllChem.GetMorganFingerprintAsBitVect(mol, radius, nBits)\n",
    "    else:\n",
    "        return np.nan\n",
    "\n",
    "\n",
    "# Apply the function to the DataFrame\n",
    "df['fingerprint'] = df['SMILES'].apply(compute_Morgan_fingerprint)\n",
    "\n",
    "# Convert fingerprints to a list of lists\n",
    "fingerprint_list = [list(f) for f in df['fingerprint']]\n",
    "\n",
    "# Optionally convert to a NumPy array for regression models\n",
    "fingerprint_array = np.array(fingerprint_list)\n",
    "\n",
    "print(fingerprint_array)"
   ]
  }
 ],
 "metadata": {
  "language_info": {
   "name": "python"
  }
 },
 "nbformat": 4,
 "nbformat_minor": 2
}
